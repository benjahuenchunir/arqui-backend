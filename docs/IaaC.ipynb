{
 "cells": [
  {
   "cell_type": "markdown",
   "metadata": {},
   "source": [
    "## Flujos y pasos de la configuración con IaaC\n",
    "\n",
    "IaaC es una tecnología que usamos en este proyecto para un manejo más controlado de este. En este caso, usamos __Terraform__ como herramienta para levantar el backend. En el proyecto, usamos 6 archivos distintos para el uso de este.\n",
    "\n",
    "### Inicialización de Terraform\n",
    "\n",
    "Partimos con el siguiente código en la terminal para introducirlo:"
   ]
  },
  {
   "cell_type": "code",
   "execution_count": null,
   "metadata": {
    "vscode": {
     "languageId": "plaintext"
    }
   },
   "outputs": [],
   "source": [
    "terraform init\n",
    "terraform validate"
   ]
  },
  {
   "cell_type": "markdown",
   "metadata": {},
   "source": [
    "Agrega los módulos y validate es una buena práctica para el manejo de errores. Con estos comandos, se crea la carpeta 'terraform' con archivos incluidos como 'terraform.lock.hcl'.\n",
    "\n",
    "### Archivos\n",
    "\n",
    "1. __appsec.yml__"
   ]
  },
  {
   "cell_type": "code",
   "execution_count": null,
   "metadata": {
    "vscode": {
     "languageId": "plaintext"
    }
   },
   "outputs": [],
   "source": [
    "version: 0.0\n",
    "os: linux\n",
    "files:\n",
    "  # Que archivos se copiaran en la instancia\n",
    "  # https://docs.aws.amazon.com/codedeploy/latest/userguide/tutorials-on-premises-instance-2-create-sample-revision.html\n",
    "  - source: ./docker-compose.production.yml\n",
    "    # Carpeta donde lo vamos a dejar\n",
    "    destination: /home/ubuntu/\n",
    "  - source: scripts\n",
    "    destination: /home/ubuntu/scripts\n",
    "  - source: .env\n",
    "    destination: /home/ubuntu/\n",
    "\n",
    "# Ciclo de vida del deployment \n",
    "# https://docs.aws.amazon.com/codedeploy/latest/userguide/reference-appspec-file-structure-hooks.html\n",
    "hooks:\n",
    "  ApllicationStop:\n",
    "    - location: ./scripts/application-stop.sh\n",
    "      timeout: 10000\n",
    "  AfterInstall:\n",
    "    - location: ./scripts/after-install.sh\n",
    "      timeout: 3000\n",
    "  ApplicationStart:\n",
    "    - location: ./scripts/application-start.sh\n",
    "      timeout: 3000\n",
    "  ValidateService:\n",
    "    - location: ./scripts/validate-service.sh\n",
    "      timeout: 3000"
   ]
  },
  {
   "cell_type": "markdown",
   "metadata": {},
   "source": [
    "En este código CodeDeploy copia archivos del repositorio a las rutas de la instancia, además inicializar scripts en orden específicos usando hooks y se espera a que se completen todas las validaciones\n",
    "\n",
    "2. __deploy.sh__"
   ]
  },
  {
   "cell_type": "code",
   "execution_count": null,
   "metadata": {
    "vscode": {
     "languageId": "plaintext"
    }
   },
   "outputs": [],
   "source": [
    "S3_BUCKET=\"iic2173-back-terraform\"\n",
    "ZIP_FILE=\"deploy.zip\"\n",
    "APPLICATION_NAME=\"iic2173-app-terraform\"\n",
    "DEPLOYMENT_GROUP_NAME=\"group-iic2173-terraform\"\n",
    "\n",
    "zip -r $ZIP_FILE ../scripts/ ./appspec.yml ../docker-compose.production.yml ../.env\n",
    "\n",
    "aws s3 cp $ZIP_FILE s3://$S3_BUCKET/$ZIP_FILE\n",
    "\n",
    "aws deploy create-deployment \\\n",
    "  --application-name $APPLICATION_NAME \\\n",
    "  --deployment-group-name $DEPLOYMENT_GROUP_NAME \\\n",
    "  --region us-east-1 \\\n",
    "  --s3-location bucket=$S3_BUCKET,key=$ZIP_FILE,bundleType=zip \\\n",
    "  --file-exists-behavior OVERWRITE"
   ]
  },
  {
   "cell_type": "markdown",
   "metadata": {},
   "source": [
    "Este este código tiene funciones como crear un archivo zip con los recursos necesarios para inicializar el back (S3_BUCKET, APPLICATION_NAME, etc), sube el archivo zip al bucket S3 y se despliega en AWS CodeDeploy\n",
    "\n",
    "3. __main.tf__"
   ]
  },
  {
   "cell_type": "code",
   "execution_count": null,
   "metadata": {
    "vscode": {
     "languageId": "plaintext"
    }
   },
   "outputs": [],
   "source": [
    "provider \"aws\" {\n",
    "  region = var.region\n",
    "}\n",
    "\n",
    "# ==================== IAM Roles and Policies ====================\n",
    "\n",
    "# define a role, which will be assumed by CodeDeploy service\n",
    "resource \"aws_iam_role\" \"codedeploy_role\" {\n",
    "  name = \"appexample-dev-codedeploy-role-us-east-1\"\n",
    "  assume_role_policy = jsonencode({\n",
    "    Version: \"2012-10-17\",\n",
    "    Statement: [\n",
    "      {\n",
    "        \"Sid\": \"\",\n",
    "        \"Effect\": \"Allow\",\n",
    "        \"Principal\": {\n",
    "          \"Service\": \"codedeploy.amazonaws.com\"\n",
    "        },\n",
    "        \"Action\": \"sts:AssumeRole\"\n",
    "      }\n",
    "    ]\n",
    "  })\n",
    "}\n",
    "\n",
    "resource \"aws_iam_role_policy_attachment\" \"codedeploy_role_policy_attachment\" {\n",
    "  role       = aws_iam_role.codedeploy_role.name\n",
    "  policy_arn = \"arn:aws:iam::aws:policy/service-role/AWSCodeDeployRole\"\n",
    "}\n",
    "\n",
    "# define a role, which will be assumed by a codedeploy app inside an EC2-instance during a deployment\n",
    "resource \"aws_iam_role\" \"codedeploy_ec2_role\" {\n",
    "  name = \"appexample-dev-EC2-codedeploy-role-us-east-1\"\n",
    "  assume_role_policy = jsonencode({\n",
    "    Version: \"2012-10-17\",\n",
    "    Statement: [\n",
    "      {\n",
    "        \"Sid\": \"\",\n",
    "        \"Effect\": \"Allow\",\n",
    "        \"Principal\": {\n",
    "          \"Service\": \"ec2.amazonaws.com\"\n",
    "        },\n",
    "        \"Action\": \"sts:AssumeRole\"\n",
    "      }\n",
    "    ]\n",
    "  })\n",
    "}\n",
    "\n",
    "# define a policy, which allows access to S3 bucket with artifacts\n",
    "resource \"aws_iam_policy\" \"codedeploy_ec2_to_s3_policy\" {\n",
    "  name        = \"appexample-dev-EC2-codedeploy-to-S3-policy-us-east-1\"\n",
    "  description = \"Allow access to S3 bucket with artifacts\"\n",
    "  policy = jsonencode({\n",
    "    Version = \"2012-10-17\"\n",
    "    Statement = [\n",
    "      {\n",
    "        Effect = \"Allow\"\n",
    "        Action = [\"s3:Get*\", \"s3:List*\"]\n",
    "        Resource = \"*\"\n",
    "      }\n",
    "    ]\n",
    "  })\n",
    "}\n",
    "\n",
    "resource \"aws_iam_role_policy_attachment\" \"attach_codedeploy_ec2_to_s3_policy\" {\n",
    "  role       = aws_iam_role.codedeploy_ec2_role.name\n",
    "  policy_arn = aws_iam_policy.codedeploy_ec2_to_s3_policy.arn\n",
    "}\n",
    "\n",
    "# attach the policy to the role\n",
    "resource \"aws_iam_role_policy_attachment\" \"attach_ssminstancecore_policy\" {\n",
    "  role       = aws_iam_role.codedeploy_ec2_role.name\n",
    "  policy_arn = \"arn:aws:iam::aws:policy/AmazonSSMManagedInstanceCore\"\n",
    "}\n",
    "\n",
    "# define an instance profile, which will be used by an EC2-instance\n",
    "resource \"aws_iam_instance_profile\" \"attach\" {\n",
    "  name = \"appexample-dev-EC2-codedeploy-instanceprofile-us-east-1\"\n",
    "  role = aws_iam_role.codedeploy_ec2_role.name\n",
    "}\n",
    "\n",
    "# ==================== S3-Buckets ====================\n",
    "\n",
    "# define a bucket for storing build artifacts\n",
    "resource \"aws_s3_bucket\" \"build_artifacts_bucket\" {\n",
    "  bucket = \"iic2173-back-terraform\"\n",
    "  force_destroy = true\n",
    "}\n",
    "\n",
    "resource \"aws_s3_bucket_versioning\" \"build_artifacts_bucket_versioning\" {\n",
    "  bucket = aws_s3_bucket.build_artifacts_bucket.id\n",
    "  versioning_configuration {\n",
    "    status = \"Disabled\"\n",
    "  }\n",
    "}\n",
    "\n",
    "# ==================== Compute Resources ====================\n",
    "\n",
    "resource \"aws_security_group\" \"application_sg\" {\n",
    "  name        = \"application-sg\"\n",
    "  description = \"application-sg\"\n",
    "  ingress {\n",
    "    from_port   = 22\n",
    "    to_port     = 22\n",
    "    protocol    = \"tcp\"\n",
    "    cidr_blocks = [\"0.0.0.0/0\"]\n",
    "  }\n",
    "\n",
    "  ingress {\n",
    "    from_port   = 80\n",
    "    to_port     = 80\n",
    "    protocol    = \"tcp\"\n",
    "    cidr_blocks = [\"0.0.0.0/0\"]\n",
    "  }\n",
    "\n",
    "  ingress {\n",
    "    from_port   = 443\n",
    "    to_port     = 443\n",
    "    protocol    = \"tcp\"\n",
    "    cidr_blocks = [\"0.0.0.0/0\"]\n",
    "  }\n",
    "\n",
    "  egress {\n",
    "    from_port   = 0\n",
    "    to_port     = 0\n",
    "    protocol    = \"-1\"\n",
    "    cidr_blocks = [\"0.0.0.0/0\"]\n",
    "  }\n",
    "}\n",
    "\n",
    "# define a launch template, which will be used by an autoscaling group\n",
    "resource \"aws_launch_template\" \"auto_scaling_launch_template_test\" {\n",
    "  name_prefix   = \"auto_scaling_launch_template_test\"\n",
    "  iam_instance_profile {\n",
    "    name = aws_iam_instance_profile.attach.name\n",
    "  }\n",
    "  image_id      = var.ami\n",
    "  instance_type = \"t2.micro\"\n",
    "  vpc_security_group_ids = [aws_security_group.application_sg.id]\n",
    "  key_name = var.key_name\n",
    "\n",
    "  user_data = filebase64(\"userdata.sh\")\n",
    "}\n",
    "\n",
    "# define an autoscaling group\n",
    "resource \"aws_autoscaling_group\" \"autoscaling_group\" {\n",
    "  name                      = \"appexample-dev-autoscaling-group-us-east-1\"\n",
    "  desired_capacity          = 1\n",
    "  max_size                  = 1\n",
    "  min_size                  = 1\n",
    "  health_check_grace_period = 300\n",
    "  health_check_type         = \"EC2\"\n",
    "  force_delete              = true\n",
    "  availability_zones = [\"us-east-1a\"]\n",
    "  launch_template {\n",
    "    id      = aws_launch_template.auto_scaling_launch_template_test.id\n",
    "    version = \"$Latest\"\n",
    "  }\n",
    "}\n",
    "\n",
    "# ==================== Codedeploy ====================\n",
    "\n",
    "# define a CodeDeploy application\n",
    "resource \"aws_codedeploy_app\" \"codedeploy_app\" {\n",
    "  name = \"iic2173-app-terraform\"\n",
    "  compute_platform = \"Server\"\n",
    "}\n",
    "\n",
    "# define a CodeDeploy deployment group\n",
    "resource \"aws_codedeploy_deployment_group\" \"deployment_group\" {\n",
    "  app_name              = aws_codedeploy_app.codedeploy_app.name\n",
    "  deployment_group_name = \"group-iic2173-terraform\"\n",
    "  service_role_arn      = aws_iam_role.codedeploy_role.arn\n",
    "  deployment_config_name = \"CodeDeployDefault.AllAtOnce\"\n",
    "  autoscaling_groups = [aws_autoscaling_group.autoscaling_group.name]\n",
    "  auto_rollback_configuration {\n",
    "    enabled = true\n",
    "    events  = [\"DEPLOYMENT_FAILURE\"]\n",
    "  }\n",
    "}\n",
    "\n",
    "resource \"null_resource\" \"deploy\" {\n",
    "  depends_on = [\n",
    "    aws_codedeploy_app.codedeploy_app,\n",
    "    aws_codedeploy_deployment_group.deployment_group,\n",
    "    aws_s3_bucket.build_artifacts_bucket\n",
    "  ]\n",
    "\n",
    "  provisioner \"local-exec\" {\n",
    "    command = \"bash deploy.sh\"\n",
    "  }\n",
    "}\n",
    "\n",
    "# ==================== API Gateway ====================\n",
    "\n",
    "# Define the autoscaling instances\n",
    "data \"aws_instance\" \"autoscaling_instance\" {\n",
    "  count = 1\n",
    "  filter {\n",
    "    name   = \"tag:aws:autoscaling:groupName\"\n",
    "    values = [aws_autoscaling_group.autoscaling_group.name]\n",
    "  }\n",
    "}\n",
    "\n",
    "# Define the API Gateway\n",
    "resource \"aws_api_gateway_rest_api\" \"api\" {\n",
    "  name        = \"api-terraform\"\n",
    "  description = \"Example API Gateway\"\n",
    "}\n",
    "\n",
    "# Define a resource in the API Gateway for /example\n",
    "resource \"aws_api_gateway_resource\" \"example_resource\" {\n",
    "  rest_api_id = aws_api_gateway_rest_api.api.id\n",
    "  parent_id   = aws_api_gateway_rest_api.api.root_resource_id\n",
    "  path_part   = \"example\"\n",
    "}\n",
    "\n",
    "# Define a GET method for the /example resource\n",
    "resource \"aws_api_gateway_method\" \"example_get\" {\n",
    "  rest_api_id   = aws_api_gateway_rest_api.api.id\n",
    "  resource_id   = aws_api_gateway_resource.example_resource.id\n",
    "  http_method   = \"GET\"\n",
    "  authorization = \"NONE\"\n",
    "}\n",
    "\n",
    "# Define the integration for the GET method on /example\n",
    "resource \"aws_api_gateway_integration\" \"example_get_integration\" {\n",
    "  rest_api_id = aws_api_gateway_rest_api.api.id\n",
    "  resource_id = aws_api_gateway_resource.example_resource.id\n",
    "  http_method = aws_api_gateway_method.example_get.http_method\n",
    "  type        = \"MOCK\"\n",
    "}\n",
    "\n",
    "# Define a resource in the API Gateway for /fixtures\n",
    "resource \"aws_api_gateway_resource\" \"fixtures_resource\" {\n",
    "  rest_api_id = aws_api_gateway_rest_api.api.id\n",
    "  parent_id   = aws_api_gateway_rest_api.api.root_resource_id\n",
    "  path_part   = \"fixtures\"\n",
    "}\n",
    "\n",
    "# Define a GET method for the /fixtures resource\n",
    "resource \"aws_api_gateway_method\" \"fixtures_get\" {\n",
    "  rest_api_id   = aws_api_gateway_rest_api.api.id\n",
    "  resource_id   = aws_api_gateway_resource.fixtures_resource.id\n",
    "  http_method   = \"GET\"\n",
    "  authorization = \"NONE\"\n",
    "}\n",
    "\n",
    "# Modify the integration for the GET method on /fixtures\n",
    "resource \"aws_api_gateway_integration\" \"fixtures_get_integration\" {\n",
    "  rest_api_id             = aws_api_gateway_rest_api.api.id\n",
    "  resource_id             = aws_api_gateway_resource.fixtures_resource.id\n",
    "  http_method             = aws_api_gateway_method.fixtures_get.http_method\n",
    "  type                    = \"HTTP\"\n",
    "  integration_http_method = \"GET\"\n",
    "  uri                     = \"http://${data.aws_instance.autoscaling_instance[0].public_dns}/fixtures\"\n",
    "}\n",
    "\n",
    "# Define a deployment for the API Gateway\n",
    "resource \"aws_api_gateway_deployment\" \"example_deployment\" {\n",
    "  depends_on = [\n",
    "    aws_api_gateway_integration.example_get_integration,\n",
    "    aws_api_gateway_integration.fixtures_get_integration\n",
    "  ]\n",
    "  rest_api_id = aws_api_gateway_rest_api.api.id\n",
    "}\n",
    "\n",
    "# Define a stage for the API Gateway\n",
    "resource \"aws_api_gateway_stage\" \"example_stage\" {\n",
    "  deployment_id = aws_api_gateway_deployment.example_deployment.id\n",
    "  rest_api_id   = aws_api_gateway_rest_api.api.id\n",
    "  stage_name    = \"dev\"\n",
    "}\n",
    "}"
   ]
  },
  {
   "cell_type": "markdown",
   "metadata": {},
   "source": [
    "main.tf integra recursos como IAM Roles, S3, Auto Scaling, EC2, entre otros. Es una infraestructura importante para que se puedan hacer los displiegues en AWS.\n",
    "\n",
    "4. __userdata.sh__"
   ]
  },
  {
   "cell_type": "code",
   "execution_count": null,
   "metadata": {
    "vscode": {
     "languageId": "plaintext"
    }
   },
   "outputs": [],
   "source": [
    "#!/bin/bash\n",
    "\n",
    "# Update and install Nginx and Docker\n",
    "sudo apt-get update -y\n",
    "sudo apt-get install -y nginx docker.io\n",
    "\n",
    "# Download docker-compose\n",
    "sudo curl -L \"https://github.com/docker/compose/releases/latest/download/docker-compose-$(uname -s)-$(uname -m)\" -o /usr/local/bin/docker-compose\n",
    "sudo chmod +x /usr/local/bin/docker-compose\n",
    "\n",
    "# Start and enable services\n",
    "sudo systemctl enable nginx\n",
    "sudo systemctl start nginx\n",
    "sudo systemctl enable docker\n",
    "sudo systemctl start docker\n",
    "\n",
    "# Install the CodeDeploy agent\n",
    "sudo apt-get install ruby wget -y && \\\n",
    "cd /home/ubuntu && \\\n",
    "wget https://aws-codedeploy-us-east-1.s3.us-east-1.amazonaws.com/latest/install && \\\n",
    "chmod +x ./install && \\\n",
    "sudo ./install auto && \\\n",
    "rm install && \\\n",
    "sudo systemctl enable codedeploy-agent && \\\n",
    "sudo systemctl start codedeploy-agent\n",
    "\n",
    "# Custom Nginx configuration\n",
    "cat <<EOF | sudo tee /etc/nginx/sites-available/pre-certbot-api.conf\n",
    "upstream apiLoadBalancer {\n",
    "    server 0.0.0.0:8001;\n",
    "    server 0.0.0.0:8002;\n",
    "    server 0.0.0.0:8003;\n",
    "}\n",
    "\n",
    "server {\n",
    "\n",
    "    server_name entregasarquicrisinguc.xyz www.entregasarquicrisinguc.xyz;\n",
    "\n",
    "    location / {\n",
    "        proxy_pass http://apiLoadBalancer;\n",
    "\n",
    "        proxy_set_header Host \\$http_host;\n",
    "        proxy_set_header X-Real-IP \\$remote_addr;\n",
    "        proxy_set_header X-Forwarded-For \\$proxy_add_x_forwarded_for;\n",
    "        proxy_set_header X-Forwarded-Proto \\$scheme;\n",
    "    }\n",
    "\n",
    "    listen 80;\n",
    "    listen [::]:80;\n",
    "}\n",
    "\n",
    "server {\n",
    "    server_name entregasarquicrisinguc.xyz www.entregasarquicrisinguc.xyz;\n",
    "\n",
    "    location / {\n",
    "        proxy_pass http://apiLoadBalancer;\n",
    "\n",
    "        proxy_set_header Host \\$http_host;\n",
    "        proxy_set_header X-Real-IP \\$remote_addr;\n",
    "        proxy_set_header X-Forwarded-For \\$proxy_add_x_forwarded_for;\n",
    "        proxy_set_header X-Forwarded-Proto \\$scheme;\n",
    "    }\n",
    "\n",
    "    listen 80;\n",
    "    listen [::]:80;\n",
    "}\n",
    "EOF\n",
    "\n",
    "# Enable the custom Nginx configuration\n",
    "sudo ln -s /etc/nginx/sites-available/pre-certbot-api.conf /etc/nginx/sites-enabled/\n",
    "sudo rm /etc/nginx/sites-enabled/default\n",
    "\n",
    "# Restart Nginx to apply the new configuration\n",
    "sudo systemctl restart nginx"
   ]
  },
  {
   "cell_type": "markdown",
   "metadata": {},
   "source": [
    "Este archivo ejecuta contenedores de docker, usa instancias de Nginx y recibe despliegues de AWS CodeDeploy.\n",
    "\n",
    "5. __variables.tf__"
   ]
  },
  {
   "cell_type": "code",
   "execution_count": null,
   "metadata": {
    "vscode": {
     "languageId": "plaintext"
    }
   },
   "outputs": [],
   "source": [
    "variable \"region\" {\n",
    "  default = \"us-east-1\"\n",
    "}\n",
    "\n",
    "variable \"ami\" {\n",
    "  default = \"ami-0e2c8caa4b6378d8c\"\n",
    "}\n",
    "\n",
    "variable \"key_name\" {\n",
    "  description = \"Nombre de la llave SSH para acceder a la instancia\"\n",
    "  type        = string\n",
    "  default     = \"TerraformBack\"\n",
    "}"
   ]
  },
  {
   "cell_type": "markdown",
   "metadata": {},
   "source": [
    "Este código define las variables de entrada.\n",
    "\n",
    "6. __.terraform.lock.hcl__\n",
    "\n",
    "Genera la consistencia de las implementaciones de la infraestructura."
   ]
  },
  {
   "cell_type": "markdown",
   "metadata": {},
   "source": [
    "### Final en backend\n",
    "\n",
    "Usando los código en consola:"
   ]
  },
  {
   "cell_type": "code",
   "execution_count": null,
   "metadata": {
    "vscode": {
     "languageId": "plaintext"
    }
   },
   "outputs": [],
   "source": [
    "terraform plan\n",
    "terraform apply"
   ]
  },
  {
   "cell_type": "markdown",
   "metadata": {},
   "source": [
    "Genera un plan y se aplican los archivos."
   ]
  },
  {
   "cell_type": "markdown",
   "metadata": {},
   "source": [
    "## Bonus: Levantar frontend con IaaC"
   ]
  },
  {
   "cell_type": "markdown",
   "metadata": {},
   "source": [
    "Al igual que el backend, se utilizo Terraform para el levantamiento de este. Además, la forma para iniciar y terminar el flujo de Terraform es con los mismos códigos utlizados en consola."
   ]
  },
  {
   "cell_type": "markdown",
   "metadata": {},
   "source": [
    "1. __Carpeta modules__\n",
    "\n",
    "Esta carpeta tiene subcarpetas, __cloud-front, s3-cf-policiy y s3-static-website__, los cuales son módulos para reutilizar las tareas necesarias para la configuración con el CloudFront, las políticas de acceso a S3 y también el sitio web estático en S3.\n",
    "\n",
    "2. __locals.tf__"
   ]
  },
  {
   "cell_type": "code",
   "execution_count": null,
   "metadata": {
    "vscode": {
     "languageId": "plaintext"
    }
   },
   "outputs": [],
   "source": [
    "locals {\n",
    "  common_tags = {\n",
    "    company     = var.company\n",
    "    project     = \"${var.company}-${var.project}\"\n",
    "    environment = var.environment\n",
    "  }\n",
    "\n",
    "  naming_prefix = \"${var.naming_prefix}-${var.environment}\"\n",
    "}"
   ]
  },
  {
   "cell_type": "markdown",
   "metadata": {},
   "source": [
    "Este archivo reutiliza variables, mantiene consistencia en los tags y genera una mantención más simple.\n",
    "\n",
    "3. __main.tf__"
   ]
  },
  {
   "cell_type": "code",
   "execution_count": null,
   "metadata": {
    "vscode": {
     "languageId": "plaintext"
    }
   },
   "outputs": [],
   "source": [
    "####################################################\n",
    "# Create S3 Static Website\n",
    "####################################################\n",
    "module \"s3_website\" {\n",
    "  source        = \"./modules/s3-static-website\"\n",
    "  bucket_name   = var.bucket_name_primary\n",
    "  source_files  = \"../dist\"\n",
    "  common_tags   = local.common_tags\n",
    "  naming_prefix = local.naming_prefix\n",
    "}\n",
    "\n",
    "####################################################\n",
    "# Create AWS Cloudfront distribution\n",
    "####################################################\n",
    "module \"cloud_front\" {\n",
    "  source        = \"./modules/cloud-front\"\n",
    "  s3_bucket_id  = module.s3_website.static_website_id\n",
    "  common_tags   = local.common_tags\n",
    "  naming_prefix = local.naming_prefix\n",
    "}\n",
    "\n",
    "####################################################\n",
    "# S3 bucket policy to allow access from cloudfront\n",
    "####################################################\n",
    "module \"s3_cf_policy_primary\" {\n",
    "  source                      = \"./modules/s3-cf-policy\"\n",
    "  bucket_id                   = module.s3_website.static_website_id\n",
    "  bucket_arn                  = module.s3_website.static_website_arn\n",
    "  cloudfront_distribution_arn = module.cloud_front.cloudfront_distribution_arn\n",
    "}"
   ]
  },
  {
   "cell_type": "markdown",
   "metadata": {},
   "source": [
    "Configura la estructura para el front estático, utilizando __Bucket S3, CloudFront y Políticas de S3-CF__.\n",
    "\n",
    "Los otros archivos del front tienen los mismos objetivos que los archivos del backend, pero con algunos componentes distintos.\n",
    "\n",
    "## Resumen del flujo para el uso de Terraform"
   ]
  },
  {
   "cell_type": "code",
   "execution_count": null,
   "metadata": {
    "vscode": {
     "languageId": "plaintext"
    }
   },
   "outputs": [],
   "source": [
    "terraform init\n",
    "terraform validate\n",
    "terraform plan\n",
    "terraform apply\n"
   ]
  }
 ],
 "metadata": {
  "language_info": {
   "name": "python"
  }
 },
 "nbformat": 4,
 "nbformat_minor": 2
}
